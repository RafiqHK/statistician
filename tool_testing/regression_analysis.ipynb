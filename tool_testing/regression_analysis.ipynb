{
 "cells": [
  {
   "cell_type": "code",
   "execution_count": 1,
   "id": "cf89347d",
   "metadata": {},
   "outputs": [],
   "source": [
    "import streamlit as st\n",
    "import pandas as pd\n",
    "from sklearn.linear_model import LinearRegression\n",
    "\n",
    "def perform_regression(df, dependent_var, independent_vars):\n",
    "    if dependent_var not in df.columns or any(var not in df.columns for var in independent_vars):\n",
    "        st.error(\"Selected variables must be in the uploaded data.\")\n",
    "        return\n",
    "\n",
    "    X = df[independent_vars]\n",
    "    y = df[dependent_var]\n",
    "\n",
    "    model = LinearRegression()\n",
    "    model.fit(X, y)\n",
    "    coefficients = dict(zip(independent_vars, model.coef_))\n",
    "    intercept = model.intercept_\n",
    "\n",
    "    st.subheader(\"Regression Results\")\n",
    "    st.write(f\"Intercept: {intercept}\")\n",
    "    st.write(\"Coefficients:\")\n",
    "    for var, coef in coefficients.items():\n",
    "        st.write(f\"{var}: {coef}\")"
   ]
  },
  {
   "cell_type": "code",
   "execution_count": 5,
   "id": "a1a14456",
   "metadata": {},
   "outputs": [],
   "source": [
    "df = pd.read_excel(r\"C:\\Users\\Rafiq\\lang-graph-test\\statbot\\streamlit-data-analysis-app\\tool_testing\\Iris.xlsx\")"
   ]
  },
  {
   "cell_type": "code",
   "execution_count": null,
   "id": "f25307df",
   "metadata": {},
   "outputs": [],
   "source": [
    "independent_var = [\"SepalLengthCm\", \"SepalWidthCm\", \"PetalLengthCm\", \"Species\"]\n",
    "dependet_var = \"PetalWidthCm\""
   ]
  },
  {
   "cell_type": "code",
   "execution_count": null,
   "id": "ed9e9f56",
   "metadata": {},
   "outputs": [],
   "source": []
  }
 ],
 "metadata": {
  "kernelspec": {
   "display_name": "anaconda_llama_env",
   "language": "python",
   "name": "python3"
  },
  "language_info": {
   "codemirror_mode": {
    "name": "ipython",
    "version": 3
   },
   "file_extension": ".py",
   "mimetype": "text/x-python",
   "name": "python",
   "nbconvert_exporter": "python",
   "pygments_lexer": "ipython3",
   "version": "3.13.2"
  }
 },
 "nbformat": 4,
 "nbformat_minor": 5
}
