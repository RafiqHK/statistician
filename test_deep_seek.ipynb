{
 "cells": [
  {
   "cell_type": "code",
   "execution_count": 3,
   "id": "02173a95",
   "metadata": {},
   "outputs": [
    {
     "name": "stdout",
     "output_type": "stream",
     "text": [
      "The meaning of life is a question that has puzzled thinkers, philosophers, scientists, and everyday people for centuries. There's no single answer, as it can vary greatly depending on cultural, religious, philosophical, and personal beliefs. Here are a few perspectives:\n",
      "\n",
      "1. **Religious/Spiritual Perspective**: In many religions, the meaning of life is tied to a higher power or divine purpose. For example, in Christianity, it might be to know, love, and serve God; in Buddhism, it could be to achieve enlightenment and escape the cycle of suffering.\n",
      "\n",
      "2. **Philosophical Perspective**: Philosophers have offered a wide range of answers. Some, like Aristotle, believe the purpose of life is to achieve happiness and fulfillment through virtue and reason. Others, like existentialists (e.g., Jean-Paul Sartre), argue that life has no inherent meaning and that it's up to each individual to create their own meaning.\n",
      "\n",
      "3. **Scientific Perspective**: From a scientific viewpoint, the meaning of life might be understood through the lens of evolution and biology. The purpose could be seen as survival and the continuation of the species, or as the pursuit of knowledge and understanding the universe.\n",
      "\n",
      "4. **Personal Perspective**: Many people find meaning in life through personal goals, relationships, creativity, or helping others. It could be about finding happiness, pursuing passions, or making a positive impact on the world.\n",
      "\n",
      "Ultimately, the meaning of life is something each person must decide for themselves. It's a deeply personal and subjective question, and what gives life meaning for one person might be entirely different for another.\n"
     ]
    }
   ],
   "source": [
    "from openai import OpenAI\n",
    "\n",
    "client = OpenAI(\n",
    "  base_url=\"https://openrouter.ai/api/v1\",\n",
    "  api_key=api,\n",
    ")\n",
    "\n",
    "completion = client.chat.completions.create(\n",
    "  extra_headers={\n",
    "    \"HTTP-Referer\": \"<YOUR_SITE_URL>\", # Optional. Site URL for rankings on openrouter.ai.\n",
    "    \"X-Title\": \"<YOUR_SITE_NAME>\", # Optional. Site title for rankings on openrouter.ai.\n",
    "  },\n",
    "  extra_body={},\n",
    "  model=\"deepseek/deepseek-r1-distill-llama-70b:free\",\n",
    "  messages=[\n",
    "    {\n",
    "      \"role\": \"user\",\n",
    "      \"content\": \"What is the meaning of life?\"\n",
    "    }\n",
    "  ]\n",
    ")\n",
    "print(completion.choices[0].message.content)"
   ]
  },
  {
   "cell_type": "code",
   "execution_count": 23,
   "id": "e6dd8259",
   "metadata": {},
   "outputs": [
    {
     "name": "stderr",
     "output_type": "stream",
     "text": [
      "C:\\Users\\Rafiq\\AppData\\Local\\Temp\\ipykernel_10608\\3072738995.py:10: LangChainDeprecationWarning: The class `ChatOpenAI` was deprecated in LangChain 0.0.10 and will be removed in 1.0. An updated version of the class exists in the :class:`~langchain-openai package and should be used instead. To use it run `pip install -U :class:`~langchain-openai` and import as `from :class:`~langchain_openai import ChatOpenAI``.\n",
      "  llm = ChatOpenAI(\n",
      "C:\\Users\\Rafiq\\AppData\\Local\\Temp\\ipykernel_10608\\3072738995.py:22: LangChainDeprecationWarning: The class `LLMChain` was deprecated in LangChain 0.1.17 and will be removed in 1.0. Use :meth:`~RunnableSequence, e.g., `prompt | llm`` instead.\n",
      "  llm_chain = LLMChain(prompt=prompt, llm=llm)\n",
      "C:\\Users\\Rafiq\\AppData\\Local\\Temp\\ipykernel_10608\\3072738995.py:26: LangChainDeprecationWarning: The method `Chain.run` was deprecated in langchain 0.1.0 and will be removed in 1.0. Use :meth:`~invoke` instead.\n",
      "  print(llm_chain.run(question))\n"
     ]
    },
    {
     "name": "stdout",
     "output_type": "stream",
     "text": [
      "The NFL team that won the Super Bowl in the year Justin Bieber was born is the Dallas Cowboys. They won Super Bowl XXVIII in 1994, the year Bieber was born on March 1st. \n",
      "\n",
      "Answer: The Dallas Cowboys won the Super Bowl in 1994, the year Justin Bieber was born.\n"
     ]
    }
   ],
   "source": [
    "from langchain.chat_models import ChatOpenAI\n",
    "from langchain.prompts import PromptTemplate\n",
    "from langchain.chains import LLMChain\n",
    "\n",
    "template = \"\"\"Question: {question}\n",
    "Answer: Let's think step by step.\"\"\"\n",
    "\n",
    "prompt = PromptTemplate(template=template, input_variables=[\"question\"])\n",
    "\n",
    "llm = ChatOpenAI(\n",
    "  openai_api_key=api,\n",
    "  openai_api_base=\"https://openrouter.ai/api/v1\",\n",
    "  model_name=\"deepseek/deepseek-r1-distill-llama-70b:free\"\n",
    "  \"\"\"model_kwargs={\n",
    "    \"headers\": {\n",
    "      \"HTTP-Referer\": getenv(\"YOUR_SITE_URL\"),\n",
    "      \"X-Title\": getenv(\"YOUR_SITE_NAME\"),\n",
    "    }\n",
    "  },\"\"\"\n",
    ")\n",
    "\n",
    "llm_chain = LLMChain(prompt=prompt, llm=llm)\n",
    "\n",
    "question = \"What NFL team won the Super Bowl in the year Justin Beiber was born?\"\n",
    "\n",
    "print(llm_chain.run(question))"
   ]
  }
 ],
 "metadata": {
  "kernelspec": {
   "display_name": "anaconda_llama_env",
   "language": "python",
   "name": "python3"
  },
  "language_info": {
   "codemirror_mode": {
    "name": "ipython",
    "version": 3
   },
   "file_extension": ".py",
   "mimetype": "text/x-python",
   "name": "python",
   "nbconvert_exporter": "python",
   "pygments_lexer": "ipython3",
   "version": "3.13.2"
  }
 },
 "nbformat": 4,
 "nbformat_minor": 5
}
